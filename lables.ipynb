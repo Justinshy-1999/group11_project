{
 "cells": [
  {
   "cell_type": "code",
   "execution_count": 3,
   "id": "9411c42e",
   "metadata": {
    "scrolled": true
   },
   "outputs": [
    {
     "ename": "FileNotFoundError",
     "evalue": "[WinError 3] 系统找不到指定的路径。: 'C:/Users/YANGJ/Downloads/Project小组/datagood/data_2000_3000'",
     "output_type": "error",
     "traceback": [
      "\u001b[1;31m---------------------------------------------------------------------------\u001b[0m",
      "\u001b[1;31mFileNotFoundError\u001b[0m                         Traceback (most recent call last)",
      "Cell \u001b[1;32mIn[3], line 14\u001b[0m\n\u001b[0;32m     11\u001b[0m labels_df \u001b[39m=\u001b[39m pd\u001b[39m.\u001b[39mDataFrame(columns\u001b[39m=\u001b[39m[\u001b[39m\"\u001b[39m\u001b[39mStock Code\u001b[39m\u001b[39m\"\u001b[39m, \u001b[39m\"\u001b[39m\u001b[39mYear\u001b[39m\u001b[39m\"\u001b[39m, \u001b[39m\"\u001b[39m\u001b[39mMonth\u001b[39m\u001b[39m\"\u001b[39m, \u001b[39m\"\u001b[39m\u001b[39mLabel\u001b[39m\u001b[39m\"\u001b[39m])\n\u001b[0;32m     13\u001b[0m \u001b[39m# Iterate through the images in the directory\u001b[39;00m\n\u001b[1;32m---> 14\u001b[0m image_list \u001b[39m=\u001b[39m os\u001b[39m.\u001b[39;49mlistdir(image_dir)\n\u001b[0;32m     15\u001b[0m \u001b[39mfor\u001b[39;00m image_file \u001b[39min\u001b[39;00m image_list:\n\u001b[0;32m     16\u001b[0m     \u001b[39mif\u001b[39;00m image_file\u001b[39m.\u001b[39mendswith(\u001b[39m'\u001b[39m\u001b[39m.png\u001b[39m\u001b[39m'\u001b[39m):\n\u001b[0;32m     17\u001b[0m         \u001b[39m# Extract stock code, year, and month from the image filename\u001b[39;00m\n",
      "\u001b[1;31mFileNotFoundError\u001b[0m: [WinError 3] 系统找不到指定的路径。: 'C:/Users/YANGJ/Downloads/Project小组/datagood/data_2000_3000'"
     ]
    }
   ],
   "source": [
    "#生成label\n",
    "import pandas as pd\n",
    "import efinance as ef\n",
    "import os\n",
    "import calendar\n",
    "\n",
    "image_dir = \"C:/Users/YANGJ/Downloads/Project小组/datagood/data_2000_3000\"\n",
    "output_csv = \"C:/Users/YANGJ/Downloads/Project小组/datatest/labels.csv\"\n",
    "\n",
    "# Create an empty DataFrame to store the labels\n",
    "labels_df = pd.DataFrame(columns=[\"Stock Code\", \"Year\", \"Month\", \"Label\"])\n",
    "\n",
    "# Iterate through the images in the directory\n",
    "image_list = os.listdir(image_dir)\n",
    "for image_file in image_list:\n",
    "    if image_file.endswith('.png'):\n",
    "        # Extract stock code, year, and month from the image filename\n",
    "        stock_code, year, month = image_file.split(\"_\")[1:4]\n",
    "        month = month.replace(\".png\", \"\")\n",
    "         # Format the month string with leading zero if necessary\n",
    "        month_str = month if len(month) == 2 else f\"0{month}\"\n",
    "        \n",
    "         # Construct the date range for fetching the stock data\n",
    "        num_days = calendar.monthrange(int(year), int(month))[1]\n",
    "        start_date = f\"{year}{month_str}01\"\n",
    "        end_date = f\"{year}{month_str}{num_days}\"\n",
    "        \n",
    "        # Load the stock price data from Yahoo Finance\n",
    "        data = ef.stock.get_quote_history(stock_code[0:6], beg=start_date, end=end_date)\n",
    "        data['日期'] = pd.to_datetime(data['日期'])\n",
    "        data = data.set_index('日期')\n",
    "        df = data.loc[:, ['开盘', '最高', '最低', '收盘', '成交量']]\n",
    "        df = df.rename_axis('Date')\n",
    "        df = df.rename(columns={'开盘': 'Open', '最高': 'High', '最低': 'Low', '收盘': 'Close', '成交量': 'Volume'})\n",
    "        stock_data = df\n",
    "        #stock_data = yf.download(stock_code, start=start_date, end=end_date)\n",
    "                \n",
    "        # Calculate the label based on the price change\n",
    "        first_price = stock_data.iloc[0][\"Close\"]\n",
    "        last_price = stock_data.iloc[-1][\"Close\"]\n",
    "        label1 = 1 if last_price > first_price else 0\n",
    "        label2 = (last_price-first_price)/first_price\n",
    "        \n",
    "        # Append the label to the DataFrame\n",
    "        labels_df = labels_df.append({\"Stock Code\": stock_code, \"Year\": year, \"Month\": month, \"Rise\": label1,\"Return\": label2}, ignore_index=True)\n",
    "\n",
    "# Save the labels to a CSV file\n",
    "labels_df.to_csv(output_csv, index=False)\n",
    "\n",
    "print(\"Label generation complete!\")"
   ]
  },
  {
   "cell_type": "code",
   "execution_count": 4,
   "id": "ef276b69",
   "metadata": {},
   "outputs": [
    {
     "data": {
      "text/html": [
       "<div>\n",
       "<style scoped>\n",
       "    .dataframe tbody tr th:only-of-type {\n",
       "        vertical-align: middle;\n",
       "    }\n",
       "\n",
       "    .dataframe tbody tr th {\n",
       "        vertical-align: top;\n",
       "    }\n",
       "\n",
       "    .dataframe thead th {\n",
       "        text-align: right;\n",
       "    }\n",
       "</style>\n",
       "<table border=\"1\" class=\"dataframe\">\n",
       "  <thead>\n",
       "    <tr style=\"text-align: right;\">\n",
       "      <th></th>\n",
       "      <th>Stock Code</th>\n",
       "      <th>Year</th>\n",
       "      <th>Month</th>\n",
       "      <th>Label</th>\n",
       "    </tr>\n",
       "  </thead>\n",
       "  <tbody>\n",
       "  </tbody>\n",
       "</table>\n",
       "</div>"
      ],
      "text/plain": [
       "Empty DataFrame\n",
       "Columns: [Stock Code, Year, Month, Label]\n",
       "Index: []"
      ]
     },
     "execution_count": 4,
     "metadata": {},
     "output_type": "execute_result"
    }
   ],
   "source": [
    "labels_df"
   ]
  },
  {
   "cell_type": "code",
   "execution_count": null,
   "id": "af432eb5",
   "metadata": {},
   "outputs": [],
   "source": []
  }
 ],
 "metadata": {
  "kernelspec": {
   "display_name": "Python 3 (ipykernel)",
   "language": "python",
   "name": "python3"
  },
  "language_info": {
   "codemirror_mode": {
    "name": "ipython",
    "version": 3
   },
   "file_extension": ".py",
   "mimetype": "text/x-python",
   "name": "python",
   "nbconvert_exporter": "python",
   "pygments_lexer": "ipython3",
   "version": "3.11.4"
  },
  "toc": {
   "base_numbering": 1,
   "nav_menu": {},
   "number_sections": true,
   "sideBar": true,
   "skip_h1_title": false,
   "title_cell": "Table of Contents",
   "title_sidebar": "Contents",
   "toc_cell": false,
   "toc_position": {},
   "toc_section_display": true,
   "toc_window_display": false
  },
  "varInspector": {
   "cols": {
    "lenName": 16,
    "lenType": 16,
    "lenVar": 40
   },
   "kernels_config": {
    "python": {
     "delete_cmd_postfix": "",
     "delete_cmd_prefix": "del ",
     "library": "var_list.py",
     "varRefreshCmd": "print(var_dic_list())"
    },
    "r": {
     "delete_cmd_postfix": ") ",
     "delete_cmd_prefix": "rm(",
     "library": "var_list.r",
     "varRefreshCmd": "cat(var_dic_list()) "
    }
   },
   "types_to_exclude": [
    "module",
    "function",
    "builtin_function_or_method",
    "instance",
    "_Feature"
   ],
   "window_display": false
  }
 },
 "nbformat": 4,
 "nbformat_minor": 5
}
