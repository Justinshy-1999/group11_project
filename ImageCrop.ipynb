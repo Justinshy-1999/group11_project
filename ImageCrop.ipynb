{
 "cells": [
  {
   "cell_type": "code",
   "execution_count": null,
   "id": "6a49421c-83d1-4f7d-b7b4-3c797871aad2",
   "metadata": {},
   "outputs": [],
   "source": [
    "#image cropping\n",
    "import numpy as np\n",
    "import os\n",
    "from PIL import Image\n",
    "\n",
    "image_dir = \"D:/data2\"\n",
    "output_dir = \"D:/datagood\"\n",
    "\n",
    "if not os.path.exists(output_dir):\n",
    "    os.makedirs(output_dir)\n",
    "\n",
    "file_list = os.listdir(image_dir)\n",
    "image_list = [i for i in file_list if i.endswith('.png')]\n",
    "image_list.sort()\n",
    "\n",
    "for image_file in image_list:\n",
    "    image_path = os.path.join(image_dir, image_file)\n",
    "    output_path = os.path.join(output_dir, image_file)\n",
    "    \n",
    "    img = Image.open(image_path)\n",
    "    cropped_img = img.crop((208, 71, 1037, 474))\n",
    "    cropped_img.save(output_path)\n",
    "\n",
    "print(\"Image cropping complete!\")"
   ]
  }
 ],
 "metadata": {
  "kernelspec": {
   "display_name": "Python 3 (ipykernel)",
   "language": "python",
   "name": "python3"
  },
  "language_info": {
   "codemirror_mode": {
    "name": "ipython",
    "version": 3
   },
   "file_extension": ".py",
   "mimetype": "text/x-python",
   "name": "python",
   "nbconvert_exporter": "python",
   "pygments_lexer": "ipython3",
   "version": "3.11.4"
  }
 },
 "nbformat": 4,
 "nbformat_minor": 5
}
